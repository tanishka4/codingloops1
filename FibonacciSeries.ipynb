{
 "cells": [
  {
   "cell_type": "code",
   "execution_count": 2,
   "metadata": {},
   "outputs": [
    {
     "name": "stdout",
     "output_type": "stream",
     "text": [
      "No of terms: 5\n",
      "Fibonacci sequence: \n",
      "0\n",
      "1\n",
      "1\n",
      "2\n",
      "3\n"
     ]
    }
   ],
   "source": [
    "#fibonacci series \n",
    "\n",
    "num = int(input(\"No of terms: \"))\n",
    "\n",
    "num1 = 0\n",
    "num2 = 1\n",
    "count = 0\n",
    "\n",
    "if num <= 0:\n",
    "    print(\"Enter a positive number.\")\n",
    "elif num == 1:\n",
    "    print(\"Fibonacci series upto\", num, \":\")\n",
    "    print(num1)\n",
    "else:\n",
    "    print(\"Fibonacci sequence: \")\n",
    "    while count < num:\n",
    "       print(num1)\n",
    "       nth = num1 + num2\n",
    "       num1 = num2\n",
    "       num2 = nth\n",
    "       count += 1"
   ]
  },
  {
   "cell_type": "markdown",
   "metadata": {},
   "source": [
    "# -Tanishka R Jain"
   ]
  },
  {
   "cell_type": "code",
   "execution_count": null,
   "metadata": {},
   "outputs": [],
   "source": []
  }
 ],
 "metadata": {
  "kernelspec": {
   "display_name": "Python 3",
   "language": "python",
   "name": "python3"
  },
  "language_info": {
   "codemirror_mode": {
    "name": "ipython",
    "version": 3
   },
   "file_extension": ".py",
   "mimetype": "text/x-python",
   "name": "python",
   "nbconvert_exporter": "python",
   "pygments_lexer": "ipython3",
   "version": "3.8.5"
  }
 },
 "nbformat": 4,
 "nbformat_minor": 4
}
